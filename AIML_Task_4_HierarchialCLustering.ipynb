{
  "cells": [
    {
      "cell_type": "markdown",
      "metadata": {
        "id": "view-in-github",
        "colab_type": "text"
      },
      "source": [
        "<a href=\"https://colab.research.google.com/github/dhrish-s/PythonLearning/blob/main/AIML_Task_4_HierarchialCLustering.ipynb\" target=\"_parent\"><img src=\"https://colab.research.google.com/assets/colab-badge.svg\" alt=\"Open In Colab\"/></a>"
      ]
    },
    {
      "cell_type": "code",
      "execution_count": null,
      "metadata": {
        "id": "Mh2Lvz-K-gvj"
      },
      "outputs": [],
      "source": []
    },
    {
      "cell_type": "markdown",
      "metadata": {
        "id": "nTlhZyLb-gvm"
      },
      "source": [
        "## Use the wholesale customer dataset. The dataset consists of whole sale items like milk, grocery, detergents, and so on. Utilize the all these features to cluster groups."
      ]
    },
    {
      "cell_type": "markdown",
      "metadata": {
        "id": "OMza5gPL-gvp"
      },
      "source": [
        "**Import needy packages**"
      ]
    },
    {
      "cell_type": "code",
      "execution_count": null,
      "metadata": {
        "id": "S7HO2HfpEvCp"
      },
      "outputs": [],
      "source": [
        "import pandas as pd\n",
        "import numpy as np\n",
        "import matplotlib.pyplot as plt\n",
        "from sklearn.cluster import AgglomerativeClustering\n",
        "from sklearn.preprocessing import StandardScaler,normalize\n",
        "from sklearn.metrics import silhouette_score\n",
        "import scipy.cluster.hierarchy as shc"
      ]
    },
    {
      "cell_type": "markdown",
      "metadata": {
        "id": "fXZ59qu4-gvr"
      },
      "source": [
        "**Read wholesale customers data, and then fill NaN values (if available) with forward fill methods**"
      ]
    },
    {
      "cell_type": "code",
      "execution_count": null,
      "metadata": {
        "id": "f4hoFfIu_elA"
      },
      "outputs": [],
      "source": [
        "df=pd.read_csv('Wholesale customers data.csv')"
      ]
    },
    {
      "cell_type": "code",
      "execution_count": null,
      "metadata": {
        "colab": {
          "base_uri": "https://localhost:8080/",
          "height": 206
        },
        "id": "TFjmzEtpAaUx",
        "outputId": "25937993-a832-4c36-bbb5-1a786317eadd"
      },
      "outputs": [
        {
          "data": {
            "text/html": [
              "<div>\n",
              "<style scoped>\n",
              "    .dataframe tbody tr th:only-of-type {\n",
              "        vertical-align: middle;\n",
              "    }\n",
              "\n",
              "    .dataframe tbody tr th {\n",
              "        vertical-align: top;\n",
              "    }\n",
              "\n",
              "    .dataframe thead th {\n",
              "        text-align: right;\n",
              "    }\n",
              "</style>\n",
              "<table border=\"1\" class=\"dataframe\">\n",
              "  <thead>\n",
              "    <tr style=\"text-align: right;\">\n",
              "      <th></th>\n",
              "      <th>Channel</th>\n",
              "      <th>Region</th>\n",
              "      <th>Fresh</th>\n",
              "      <th>Milk</th>\n",
              "      <th>Grocery</th>\n",
              "      <th>Frozen</th>\n",
              "      <th>Detergents_Paper</th>\n",
              "      <th>Delicassen</th>\n",
              "    </tr>\n",
              "  </thead>\n",
              "  <tbody>\n",
              "    <tr>\n",
              "      <th>0</th>\n",
              "      <td>2</td>\n",
              "      <td>3</td>\n",
              "      <td>12669</td>\n",
              "      <td>9656</td>\n",
              "      <td>7561</td>\n",
              "      <td>214</td>\n",
              "      <td>2674</td>\n",
              "      <td>1338</td>\n",
              "    </tr>\n",
              "    <tr>\n",
              "      <th>1</th>\n",
              "      <td>2</td>\n",
              "      <td>3</td>\n",
              "      <td>7057</td>\n",
              "      <td>9810</td>\n",
              "      <td>9568</td>\n",
              "      <td>1762</td>\n",
              "      <td>3293</td>\n",
              "      <td>1776</td>\n",
              "    </tr>\n",
              "    <tr>\n",
              "      <th>2</th>\n",
              "      <td>2</td>\n",
              "      <td>3</td>\n",
              "      <td>6353</td>\n",
              "      <td>8808</td>\n",
              "      <td>7684</td>\n",
              "      <td>2405</td>\n",
              "      <td>3516</td>\n",
              "      <td>7844</td>\n",
              "    </tr>\n",
              "    <tr>\n",
              "      <th>3</th>\n",
              "      <td>1</td>\n",
              "      <td>3</td>\n",
              "      <td>13265</td>\n",
              "      <td>1196</td>\n",
              "      <td>4221</td>\n",
              "      <td>6404</td>\n",
              "      <td>507</td>\n",
              "      <td>1788</td>\n",
              "    </tr>\n",
              "    <tr>\n",
              "      <th>4</th>\n",
              "      <td>2</td>\n",
              "      <td>3</td>\n",
              "      <td>22615</td>\n",
              "      <td>5410</td>\n",
              "      <td>7198</td>\n",
              "      <td>3915</td>\n",
              "      <td>1777</td>\n",
              "      <td>5185</td>\n",
              "    </tr>\n",
              "  </tbody>\n",
              "</table>\n",
              "</div>"
            ],
            "text/plain": [
              "   Channel  Region  Fresh  Milk  Grocery  Frozen  Detergents_Paper  Delicassen\n",
              "0        2       3  12669  9656     7561     214              2674        1338\n",
              "1        2       3   7057  9810     9568    1762              3293        1776\n",
              "2        2       3   6353  8808     7684    2405              3516        7844\n",
              "3        1       3  13265  1196     4221    6404               507        1788\n",
              "4        2       3  22615  5410     7198    3915              1777        5185"
            ]
          },
          "execution_count": 7,
          "metadata": {},
          "output_type": "execute_result"
        }
      ],
      "source": [
        "#taking 10 records.forward fill\n",
        "df.fillna(method='ffill',inplace=True)\n",
        "df=df[:10]\n",
        "df.head()"
      ]
    },
    {
      "cell_type": "markdown",
      "metadata": {
        "id": "GvbMdMBP-gvu"
      },
      "source": [
        "**Scale and normalize the dataset**"
      ]
    },
    {
      "cell_type": "code",
      "execution_count": null,
      "metadata": {
        "id": "84fsAX0q_elC"
      },
      "outputs": [],
      "source": [
        "#scaling so that features become comparable\n",
        "from sklearn.preprocessing import StandardScaler\n",
        "ss=StandardScaler()\n",
        "X_scaled=ss.fit_transform(df)"
      ]
    },
    {
      "cell_type": "code",
      "execution_count": null,
      "metadata": {
        "colab": {
          "base_uri": "https://localhost:8080/",
          "height": 206
        },
        "id": "XUlUfc2sCVsY",
        "outputId": "10493084-0937-4d58-97ec-7390556809db"
      },
      "outputs": [
        {
          "name": "stdout",
          "output_type": "stream",
          "text": [
            "<class 'numpy.ndarray'>\n",
            "<class 'pandas.core.frame.DataFrame'>\n"
          ]
        },
        {
          "data": {
            "text/html": [
              "<div>\n",
              "<style scoped>\n",
              "    .dataframe tbody tr th:only-of-type {\n",
              "        vertical-align: middle;\n",
              "    }\n",
              "\n",
              "    .dataframe tbody tr th {\n",
              "        vertical-align: top;\n",
              "    }\n",
              "\n",
              "    .dataframe thead th {\n",
              "        text-align: right;\n",
              "    }\n",
              "</style>\n",
              "<table border=\"1\" class=\"dataframe\">\n",
              "  <thead>\n",
              "    <tr style=\"text-align: right;\">\n",
              "      <th></th>\n",
              "      <th>Channel</th>\n",
              "      <th>Region</th>\n",
              "      <th>Fresh</th>\n",
              "      <th>Milk</th>\n",
              "      <th>Grocery</th>\n",
              "      <th>Frozen</th>\n",
              "      <th>Detergents_Paper</th>\n",
              "      <th>Delicassen</th>\n",
              "    </tr>\n",
              "  </thead>\n",
              "  <tbody>\n",
              "    <tr>\n",
              "      <th>0</th>\n",
              "      <td>0.308998</td>\n",
              "      <td>0.0</td>\n",
              "      <td>0.297687</td>\n",
              "      <td>0.593404</td>\n",
              "      <td>-0.115284</td>\n",
              "      <td>-0.570246</td>\n",
              "      <td>-0.085215</td>\n",
              "      <td>-0.343573</td>\n",
              "    </tr>\n",
              "    <tr>\n",
              "      <th>1</th>\n",
              "      <td>0.354281</td>\n",
              "      <td>0.0</td>\n",
              "      <td>-0.468807</td>\n",
              "      <td>0.714690</td>\n",
              "      <td>0.235147</td>\n",
              "      <td>-0.057019</td>\n",
              "      <td>0.151795</td>\n",
              "      <td>-0.249672</td>\n",
              "    </tr>\n",
              "    <tr>\n",
              "      <th>2</th>\n",
              "      <td>0.180386</td>\n",
              "      <td>0.0</td>\n",
              "      <td>-0.290442</td>\n",
              "      <td>0.250180</td>\n",
              "      <td>-0.055838</td>\n",
              "      <td>0.097186</td>\n",
              "      <td>0.123053</td>\n",
              "      <td>0.890398</td>\n",
              "    </tr>\n",
              "    <tr>\n",
              "      <th>3</th>\n",
              "      <td>-0.494831</td>\n",
              "      <td>0.0</td>\n",
              "      <td>0.149221</td>\n",
              "      <td>-0.420855</td>\n",
              "      <td>-0.259605</td>\n",
              "      <td>0.604986</td>\n",
              "      <td>-0.339105</td>\n",
              "      <td>-0.085800</td>\n",
              "    </tr>\n",
              "    <tr>\n",
              "      <th>4</th>\n",
              "      <td>0.159007</td>\n",
              "      <td>0.0</td>\n",
              "      <td>0.797575</td>\n",
              "      <td>-0.119392</td>\n",
              "      <td>-0.089142</td>\n",
              "      <td>0.346943</td>\n",
              "      <td>-0.206120</td>\n",
              "      <td>0.391836</td>\n",
              "    </tr>\n",
              "  </tbody>\n",
              "</table>\n",
              "</div>"
            ],
            "text/plain": [
              "    Channel  Region     Fresh      Milk   Grocery    Frozen  Detergents_Paper  \\\n",
              "0  0.308998     0.0  0.297687  0.593404 -0.115284 -0.570246         -0.085215   \n",
              "1  0.354281     0.0 -0.468807  0.714690  0.235147 -0.057019          0.151795   \n",
              "2  0.180386     0.0 -0.290442  0.250180 -0.055838  0.097186          0.123053   \n",
              "3 -0.494831     0.0  0.149221 -0.420855 -0.259605  0.604986         -0.339105   \n",
              "4  0.159007     0.0  0.797575 -0.119392 -0.089142  0.346943         -0.206120   \n",
              "\n",
              "   Delicassen  \n",
              "0   -0.343573  \n",
              "1   -0.249672  \n",
              "2    0.890398  \n",
              "3   -0.085800  \n",
              "4    0.391836  "
            ]
          },
          "execution_count": 9,
          "metadata": {},
          "output_type": "execute_result"
        }
      ],
      "source": [
        "#normalize-normalize the data so that the data approximatly follows gaussian distribution\n",
        "x_normalized=normalize(X_scaled)\n",
        "print(type(x_normalized))\n",
        "\n",
        "#converting numpy array into a pandas dataframe\n",
        "x_normalized=pd.DataFrame(x_normalized,columns=df.columns)\n",
        "print(type(x_normalized))\n",
        "x_normalized.head()"
      ]
    },
    {
      "cell_type": "markdown",
      "metadata": {
        "id": "nVawv6hK-gvx"
      },
      "source": [
        "**Draw a dendrogram and decide optimal number of clusters**"
      ]
    },
    {
      "cell_type": "code",
      "execution_count": null,
      "metadata": {
        "colab": {
          "base_uri": "https://localhost:8080/",
          "height": 444
        },
        "id": "sPgcz4u8_elD",
        "outputId": "bd564997-6a8b-44a7-936e-462918c2be4f"
      },
      "outputs": [
        {
          "data": {
            "image/png": "[encoded data removed]",
            "text/plain": [
              "<Figure size 720x504 with 1 Axes>"
            ]
          },
          "metadata": {
            "needs_background": "light"
          },
          "output_type": "display_data"
        }
      ],
      "source": [
        "import scipy.cluster.hierarchy as shc\n",
        "plt.figure(figsize=(10,7))\n",
        "plt.title(\"Dendrograms\")\n",
        "dend=shc.dendrogram(shc.linkage(x_normalized,method='ward'))"
      ]
    },
    {
      "cell_type": "markdown",
      "metadata": {
        "id": "l88PWc12-gvy"
      },
      "source": [
        "**Agglomerative Clustering**"
      ]
    },
    {
      "cell_type": "code",
      "execution_count": null,
      "metadata": {
        "id": "e4zkNXM__q97",
        "outputId": "8edc5cd5-4307-4c51-b7a7-b9c4a7d1e7cc"
      },
      "outputs": [
        {
          "data": {
            "text/plain": [
              "array([1, 1, 0, 0, 0, 1, 0, 0, 0, 1], dtype=int64)"
            ]
          },
          "execution_count": 16,
          "metadata": {},
          "output_type": "execute_result"
        }
      ],
      "source": [
        "from sklearn.cluster import AgglomerativeClustering\n",
        "cluster = AgglomerativeClustering(n_clusters=2,affinity='euclidean',linkage='ward')\n",
        "y=cluster.fit_predict(x_normalized)\n",
        "y"
      ]
    },
    {
      "cell_type": "markdown",
      "metadata": {
        "id": "ind0RsUR-gvz"
      },
      "source": [
        "**Visualize the clusters with 'Milk' and 'Grocery' feature items**"
      ]
    },
    {
      "cell_type": "code",
      "execution_count": null,
      "metadata": {
        "colab": {
          "base_uri": "https://localhost:8080/",
          "height": 446
        },
        "id": "jd0UO28CAKBN",
        "outputId": "87f88b5d-63c5-4514-fb16-9e9d3fac4936"
      },
      "outputs": [
        {
          "data": {
            "text/plain": [
              "<matplotlib.collections.PathCollection at 0x2786723f310>"
            ]
          },
          "execution_count": 12,
          "metadata": {},
          "output_type": "execute_result"
        },
        {
          "data": {
            "image/png": "[encoded data removed]",
            "text/plain": [
              "<Figure size 720x504 with 1 Axes>"
            ]
          },
          "metadata": {
            "needs_background": "light"
          },
          "output_type": "display_data"
        }
      ],
      "source": [
        "plt.figure(figsize=(10,7))\n",
        "plt.scatter(x_normalized['Milk'],x_normalized['Grocery'],c=cluster.labels_)"
      ]
    },
    {
      "cell_type": "code",
      "execution_count": null,
      "metadata": {
        "id": "CB3NsUzu-gv0"
      },
      "outputs": [],
      "source": []
    }
  ],
  "metadata": {
    "accelerator": "GPU",
    "colab": {
      "provenance": [],
      "include_colab_link": true
    },
    "gpuClass": "standard",
    "kernelspec": {
      "display_name": "Python 3",
      "language": "python",
      "name": "python3"
    },
    "language_info": {
      "codemirror_mode": {
        "name": "ipython",
        "version": 3
      },
      "file_extension": ".py",
      "mimetype": "text/x-python",
      "name": "python",
      "nbconvert_exporter": "python",
      "pygments_lexer": "ipython3",
      "version": "3.8.8"
    }
  },
  "nbformat": 4,
  "nbformat_minor": 0
}